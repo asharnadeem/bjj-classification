{
 "cells": [
  {
   "cell_type": "markdown",
   "metadata": {},
   "source": [
    "### Import Packages"
   ]
  },
  {
   "cell_type": "code",
   "execution_count": 1,
   "metadata": {},
   "outputs": [
    {
     "name": "stderr",
     "output_type": "stream",
     "text": [
      "Using TensorFlow backend.\n"
     ]
    }
   ],
   "source": [
    "# Imports data manipulation and visualization packages\n",
    "import numpy as np\n",
    "import os\n",
    "from matplotlib import pyplot as plt\n",
    "import cv2\n",
    "import random\n",
    "import pickle\n",
    "\n",
    "# Imports ML packages\n",
    "import tensorflow as tf\n",
    "from tensorflow.keras.models import Sequential\n",
    "from tensorflow.keras.layers import Dense, Dropout, Activation, Flatten, Conv2D, MaxPooling2D\n",
    "from keras.models import model_from_json\n",
    "from keras.models import load_model\n",
    "import sklearn.metrics as metrics"
   ]
  },
  {
   "cell_type": "markdown",
   "metadata": {},
   "source": [
    "### Global Variables"
   ]
  },
  {
   "cell_type": "code",
   "execution_count": 2,
   "metadata": {},
   "outputs": [],
   "source": [
    "# Directory where all the images are stored\n",
    "DATADIR = \"Images\" \n",
    "\n",
    "# The name of each classification. These MUST be the same\n",
    "# as the name of the folder in which each classified image is stored\n",
    "CATEGORIES = [\"De La Riva\", \"Fifty50\", \"Single Leg X\", \"X Guard\"]\n",
    "\n",
    "# The size of the images that your neural network will use\n",
    "IMG_SIZE = 50 "
   ]
  },
  {
   "cell_type": "markdown",
   "metadata": {},
   "source": [
    "### Loads the images and creates training data"
   ]
  },
  {
   "cell_type": "code",
   "execution_count": 3,
   "metadata": {},
   "outputs": [],
   "source": [
    "# Creates an array of our images with their classification\n",
    "for category in CATEGORIES :\n",
    "\tpath = os.path.join(DATADIR, category)\n",
    "\tfor img in os.listdir(path):\n",
    "\t\timg_array = cv2.imread(os.path.join(path, img), cv2.IMREAD_GRAYSCALE)\n",
    "\n",
    "# Array for training data\n",
    "training_data = []\n",
    "\n",
    "# Create training data\n",
    "def create_training_data():\n",
    "\tfor category in CATEGORIES :\n",
    "\t\tpath = os.path.join(DATADIR, category)\n",
    "\t\tclass_num = CATEGORIES.index(category)\n",
    "\t\tfor img in os.listdir(path):\n",
    "\t\t\ttry :\n",
    "\t\t\t\timg_array = cv2.imread(os.path.join(path, img), cv2.IMREAD_GRAYSCALE)\n",
    "\t\t\t\tnew_array = cv2.resize(img_array, (IMG_SIZE, IMG_SIZE))\n",
    "\t\t\t\ttraining_data.append([new_array, class_num])\n",
    "\t\t\texcept Exception as e:\n",
    "\t\t\t\tpass\n",
    "\n",
    "create_training_data()\n",
    "random.shuffle(training_data)"
   ]
  },
  {
   "cell_type": "markdown",
   "metadata": {},
   "source": [
    "### Creates 'X' and 'y' files that contain classification information"
   ]
  },
  {
   "cell_type": "code",
   "execution_count": 4,
   "metadata": {},
   "outputs": [],
   "source": [
    "X = [] # Features\n",
    "y = [] # Labels\n",
    "\n",
    "for features, label in training_data:\n",
    "\tX.append(features)\n",
    "\ty.append(label)\n",
    "\n",
    "# Reshape our array so it matches 'tensors' of our model\n",
    "X = np.array(X).reshape(-1, IMG_SIZE, IMG_SIZE, 1)\n",
    "\n",
    "# Creating the files containing all the information about your model\n",
    "pickle_out = open(\"X.pickle\", \"wb\")\n",
    "pickle.dump(X, pickle_out)\n",
    "pickle_out.close()\n",
    "\n",
    "pickle_out = open(\"y.pickle\", \"wb\")\n",
    "pickle.dump(y, pickle_out)\n",
    "pickle_out.close()\n",
    "\n",
    "pickle_in = open(\"X.pickle\", \"rb\")\n",
    "X = pickle.load(pickle_in)"
   ]
  },
  {
   "cell_type": "markdown",
   "metadata": {},
   "source": [
    "### Create the model"
   ]
  },
  {
   "cell_type": "code",
   "execution_count": 62,
   "metadata": {},
   "outputs": [],
   "source": [
    "# Opening the data files\n",
    "X = pickle.load(open(\"X.pickle\", \"rb\"))\n",
    "y = pickle.load(open(\"y.pickle\", \"rb\"))\n",
    "\n",
    "# Normalizing the data (a pixel goes from 0 to 255)\n",
    "X = X/255.0\n",
    "\n",
    "# Building the model\n",
    "model = Sequential()\n",
    "\n",
    "# We need 3 convolutional layers\n",
    "model.add(Conv2D(32, (3, 3), input_shape = X.shape[1:]))\n",
    "model.add(Activation(\"relu\"))\n",
    "model.add(MaxPooling2D(pool_size=(2,2)))\n",
    "\n",
    "model.add(Conv2D(128, (3, 3)))\n",
    "model.add(Activation(\"relu\"))\n",
    "model.add(MaxPooling2D(pool_size=(2,2)))\n",
    "\n",
    "model.add(Conv2D(128, (3, 3)))\n",
    "model.add(Activation(\"relu\"))\n",
    "model.add(MaxPooling2D(pool_size=(2,2)))\n",
    "model.add(Dropout(0.25))\n",
    "\n",
    "# We need 3 hidden layers\n",
    "model.add(Flatten())\n",
    "model.add(Dense(128))\n",
    "model.add(Activation(\"relu\"))\n",
    "\n",
    "model.add(Dense(128))\n",
    "model.add(Activation(\"relu\"))\n",
    "\n",
    "model.add(Dense(128))\n",
    "model.add(Activation(\"relu\"))\n",
    "\n",
    "# The output layer with 4 neurons, for 4 classes\n",
    "model.add(Dense(4))\n",
    "model.add(Activation(\"softmax\"))"
   ]
  },
  {
   "cell_type": "markdown",
   "metadata": {},
   "source": [
    "### Compile, fit, and save the model"
   ]
  },
  {
   "cell_type": "code",
   "execution_count": 63,
   "metadata": {},
   "outputs": [],
   "source": [
    "# Compiling the model using some basic parameters\n",
    "model.compile(loss=\"sparse_categorical_crossentropy\", optimizer=\"adam\", metrics=[\"accuracy\"])"
   ]
  },
  {
   "cell_type": "code",
   "execution_count": 64,
   "metadata": {},
   "outputs": [],
   "source": [
    "# Reshape arrays\n",
    "X = np.array(X).reshape(-1, IMG_SIZE, IMG_SIZE, 1)\n",
    "y = np.array(y)"
   ]
  },
  {
   "cell_type": "code",
   "execution_count": 65,
   "metadata": {},
   "outputs": [
    {
     "name": "stdout",
     "output_type": "stream",
     "text": [
      "Train on 367 samples, validate on 41 samples\n",
      "Epoch 1/40\n",
      "367/367 [==============================] - 2s 4ms/sample - loss: 1.3869 - accuracy: 0.3569 - val_loss: 1.3692 - val_accuracy: 0.3171\n",
      "Epoch 2/40\n",
      "367/367 [==============================] - 1s 3ms/sample - loss: 1.3704 - accuracy: 0.3651 - val_loss: 1.3767 - val_accuracy: 0.3171\n",
      "Epoch 3/40\n",
      "367/367 [==============================] - 1s 3ms/sample - loss: 1.3638 - accuracy: 0.3651 - val_loss: 1.3631 - val_accuracy: 0.3171\n",
      "Epoch 4/40\n",
      "367/367 [==============================] - 1s 3ms/sample - loss: 1.3583 - accuracy: 0.3651 - val_loss: 1.3589 - val_accuracy: 0.3171\n",
      "Epoch 5/40\n",
      "367/367 [==============================] - 1s 3ms/sample - loss: 1.3503 - accuracy: 0.3651 - val_loss: 1.3566 - val_accuracy: 0.3171\n",
      "Epoch 6/40\n",
      "367/367 [==============================] - 1s 3ms/sample - loss: 1.3512 - accuracy: 0.3651 - val_loss: 1.3564 - val_accuracy: 0.3171\n",
      "Epoch 7/40\n",
      "367/367 [==============================] - 1s 3ms/sample - loss: 1.3469 - accuracy: 0.3651 - val_loss: 1.3678 - val_accuracy: 0.3171\n",
      "Epoch 8/40\n",
      "367/367 [==============================] - 1s 4ms/sample - loss: 1.3537 - accuracy: 0.3651 - val_loss: 1.3553 - val_accuracy: 0.3171\n",
      "Epoch 9/40\n",
      "367/367 [==============================] - 2s 4ms/sample - loss: 1.3367 - accuracy: 0.3651 - val_loss: 1.3449 - val_accuracy: 0.3171\n",
      "Epoch 10/40\n",
      "367/367 [==============================] - 1s 3ms/sample - loss: 1.2872 - accuracy: 0.3760 - val_loss: 1.3438 - val_accuracy: 0.3171\n",
      "Epoch 11/40\n",
      "367/367 [==============================] - 1s 3ms/sample - loss: 1.2620 - accuracy: 0.4087 - val_loss: 1.4829 - val_accuracy: 0.1951\n",
      "Epoch 12/40\n",
      "367/367 [==============================] - 1s 3ms/sample - loss: 1.2216 - accuracy: 0.4823 - val_loss: 1.4085 - val_accuracy: 0.2195\n",
      "Epoch 13/40\n",
      "367/367 [==============================] - 1s 3ms/sample - loss: 1.1715 - accuracy: 0.5232 - val_loss: 1.5051 - val_accuracy: 0.2927\n",
      "Epoch 14/40\n",
      "367/367 [==============================] - 1s 3ms/sample - loss: 0.9818 - accuracy: 0.6049 - val_loss: 1.6422 - val_accuracy: 0.2927\n",
      "Epoch 15/40\n",
      "367/367 [==============================] - 1s 3ms/sample - loss: 0.9225 - accuracy: 0.6158 - val_loss: 1.7556 - val_accuracy: 0.3171\n",
      "Epoch 16/40\n",
      "367/367 [==============================] - 1s 3ms/sample - loss: 0.8474 - accuracy: 0.6621 - val_loss: 1.7572 - val_accuracy: 0.3659\n",
      "Epoch 17/40\n",
      "367/367 [==============================] - 1s 3ms/sample - loss: 0.6482 - accuracy: 0.7738 - val_loss: 2.2537 - val_accuracy: 0.2683\n",
      "Epoch 18/40\n",
      "367/367 [==============================] - 1s 4ms/sample - loss: 0.5298 - accuracy: 0.8038 - val_loss: 2.0540 - val_accuracy: 0.2927\n",
      "Epoch 19/40\n",
      "367/367 [==============================] - 1s 3ms/sample - loss: 0.5326 - accuracy: 0.7956 - val_loss: 2.0396 - val_accuracy: 0.2927\n",
      "Epoch 20/40\n",
      "367/367 [==============================] - 1s 3ms/sample - loss: 0.3536 - accuracy: 0.8719 - val_loss: 2.4622 - val_accuracy: 0.2439\n",
      "Epoch 21/40\n",
      "367/367 [==============================] - 1s 3ms/sample - loss: 0.3279 - accuracy: 0.8692 - val_loss: 2.2226 - val_accuracy: 0.2683\n",
      "Epoch 22/40\n",
      "367/367 [==============================] - 1s 3ms/sample - loss: 0.3115 - accuracy: 0.8992 - val_loss: 2.6422 - val_accuracy: 0.3171\n",
      "Epoch 23/40\n",
      "367/367 [==============================] - 1s 3ms/sample - loss: 0.2170 - accuracy: 0.9210 - val_loss: 2.5946 - val_accuracy: 0.3415\n",
      "Epoch 24/40\n",
      "367/367 [==============================] - 1s 3ms/sample - loss: 0.1956 - accuracy: 0.9346 - val_loss: 2.6194 - val_accuracy: 0.3902\n",
      "Epoch 25/40\n",
      "367/367 [==============================] - 1s 3ms/sample - loss: 0.0969 - accuracy: 0.9809 - val_loss: 4.1167 - val_accuracy: 0.2439\n",
      "Epoch 26/40\n",
      "367/367 [==============================] - 1s 3ms/sample - loss: 0.1106 - accuracy: 0.9619 - val_loss: 3.2946 - val_accuracy: 0.3415\n",
      "Epoch 27/40\n",
      "367/367 [==============================] - 1s 4ms/sample - loss: 0.1338 - accuracy: 0.9564 - val_loss: 3.6298 - val_accuracy: 0.2195\n",
      "Epoch 28/40\n",
      "367/367 [==============================] - 1s 3ms/sample - loss: 0.0846 - accuracy: 0.9782 - val_loss: 3.6061 - val_accuracy: 0.3415\n",
      "Epoch 29/40\n",
      "367/367 [==============================] - 1s 3ms/sample - loss: 0.0636 - accuracy: 0.9782 - val_loss: 4.0999 - val_accuracy: 0.2683\n",
      "Epoch 30/40\n",
      "367/367 [==============================] - 1s 3ms/sample - loss: 0.0821 - accuracy: 0.9700 - val_loss: 3.6099 - val_accuracy: 0.3415\n",
      "Epoch 31/40\n",
      "367/367 [==============================] - 1s 3ms/sample - loss: 0.1050 - accuracy: 0.9755 - val_loss: 3.5043 - val_accuracy: 0.3659\n",
      "Epoch 32/40\n",
      "367/367 [==============================] - 1s 3ms/sample - loss: 0.0752 - accuracy: 0.9809 - val_loss: 4.1538 - val_accuracy: 0.2927\n",
      "Epoch 33/40\n",
      "367/367 [==============================] - 1s 4ms/sample - loss: 0.0568 - accuracy: 0.9864 - val_loss: 4.3958 - val_accuracy: 0.2927\n",
      "Epoch 34/40\n",
      "367/367 [==============================] - 1s 3ms/sample - loss: 0.0418 - accuracy: 0.9918 - val_loss: 4.4105 - val_accuracy: 0.3415\n",
      "Epoch 35/40\n",
      "367/367 [==============================] - 1s 3ms/sample - loss: 0.0473 - accuracy: 0.9864 - val_loss: 4.8160 - val_accuracy: 0.3415\n",
      "Epoch 36/40\n",
      "367/367 [==============================] - 1s 3ms/sample - loss: 0.0581 - accuracy: 0.9782 - val_loss: 4.1558 - val_accuracy: 0.3415\n",
      "Epoch 37/40\n",
      "367/367 [==============================] - 1s 3ms/sample - loss: 0.0741 - accuracy: 0.9782 - val_loss: 4.4587 - val_accuracy: 0.2927\n",
      "Epoch 38/40\n",
      "367/367 [==============================] - 1s 4ms/sample - loss: 0.0762 - accuracy: 0.9782 - val_loss: 4.2372 - val_accuracy: 0.3415\n",
      "Epoch 39/40\n",
      "367/367 [==============================] - 1s 3ms/sample - loss: 0.0402 - accuracy: 0.9864 - val_loss: 4.7207 - val_accuracy: 0.3659\n",
      "Epoch 40/40\n",
      "367/367 [==============================] - 1s 3ms/sample - loss: 0.0955 - accuracy: 0.9646 - val_loss: 3.9029 - val_accuracy: 0.3171\n"
     ]
    }
   ],
   "source": [
    "# Training the model, with 40 iterations\n",
    "# validation_split corresponds to the percentage of images used for the validation phase compared to all the images\n",
    "# In this case, 10% of the images are used to verify the models accuract\n",
    "\n",
    "history = model.fit(X, y, batch_size = 32, epochs = 40, validation_split = 0.1)"
   ]
  },
  {
   "cell_type": "code",
   "execution_count": 66,
   "metadata": {},
   "outputs": [
    {
     "name": "stdout",
     "output_type": "stream",
     "text": [
      "Saved model to disk\n",
      "INFO:tensorflow:Assets written to: Guards.model/assets\n"
     ]
    }
   ],
   "source": [
    "# Saving the model\n",
    "model_json = model.to_json()\n",
    "with open(\"model.json\", \"w\") as json_file :\n",
    "\tjson_file.write(model_json)\n",
    "\n",
    "model.save_weights(\"model.h5\")\n",
    "print(\"Saved model to disk\")\n",
    "\n",
    "model_name = 'Guards.model'\n",
    "model.save(model_name)"
   ]
  },
  {
   "cell_type": "markdown",
   "metadata": {},
   "source": [
    "### Data Visualization"
   ]
  },
  {
   "cell_type": "code",
   "execution_count": 67,
   "metadata": {},
   "outputs": [
    {
     "name": "stdout",
     "output_type": "stream",
     "text": [
      "dict_keys(['loss', 'accuracy', 'val_loss', 'val_accuracy'])\n"
     ]
    },
    {
     "data": {
      "text/plain": [
       "<matplotlib.legend.Legend at 0x14e841f90>"
      ]
     },
     "execution_count": 67,
     "metadata": {},
     "output_type": "execute_result"
    },
    {
     "data": {
      "image/png": "[encoded data removed]",
      "text/plain": [
       "<Figure size 432x288 with 1 Axes>"
      ]
     },
     "metadata": {
      "needs_background": "light"
     },
     "output_type": "display_data"
    }
   ],
   "source": [
    "# Printing a graph showing the accuracy changes during the training phase\n",
    "print(history.history.keys())\n",
    "plt.figure(1)\n",
    "plt.plot(history.history['accuracy'])\n",
    "plt.plot(history.history['val_accuracy'])\n",
    "plt.title('model accuracy')\n",
    "plt.ylabel('accuracy')\n",
    "plt.xlabel('epoch')\n",
    "plt.legend(['train', 'validation'], loc='upper left')"
   ]
  },
  {
   "cell_type": "markdown",
   "metadata": {},
   "source": [
    "### File sanitization function and load the model"
   ]
  },
  {
   "cell_type": "code",
   "execution_count": 68,
   "metadata": {},
   "outputs": [],
   "source": [
    "# Prepare the input file (image)\n",
    "def prepare(file):\n",
    "    IMG_SIZE = 50\n",
    "    img_array = cv2.imread(file, cv2.IMREAD_GRAYSCALE)\n",
    "    img_array = img_array/255.0\n",
    "    new_array = cv2.resize(img_array, (IMG_SIZE, IMG_SIZE))\n",
    "    return new_array.reshape(1, IMG_SIZE, IMG_SIZE, 1)"
   ]
  },
  {
   "cell_type": "code",
   "execution_count": 69,
   "metadata": {},
   "outputs": [],
   "source": [
    "# Load Model\n",
    "model = tf.keras.models.load_model(model_name)"
   ]
  },
  {
   "cell_type": "markdown",
   "metadata": {},
   "source": [
    "## User Input"
   ]
  },
  {
   "cell_type": "code",
   "execution_count": 80,
   "metadata": {},
   "outputs": [
    {
     "name": "stdout",
     "output_type": "stream",
     "text": [
      "De La Riva\n"
     ]
    }
   ],
   "source": [
    "# Define what image you want to load and prepare it\n",
    "input_image = \"9.jpg\"\n",
    "image = prepare(input_image)\n",
    "\n",
    "# Use the model to predict what the image is\n",
    "prediction = model.predict(image)\n",
    "prediction = list(prediction[0])\n",
    "print(CATEGORIES[prediction.index(max(prediction))])"
   ]
  },
  {
   "cell_type": "code",
   "execution_count": null,
   "metadata": {},
   "outputs": [],
   "source": []
  }
 ],
 "metadata": {
  "kernelspec": {
   "display_name": "Python 3",
   "language": "python",
   "name": "python3"
  },
  "language_info": {
   "codemirror_mode": {
    "name": "ipython",
    "version": 3
   },
   "file_extension": ".py",
   "mimetype": "text/x-python",
   "name": "python",
   "nbconvert_exporter": "python",
   "pygments_lexer": "ipython3",
   "version": "3.7.5"
  }
 },
 "nbformat": 4,
 "nbformat_minor": 4
}
